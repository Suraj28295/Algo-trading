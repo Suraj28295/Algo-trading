{
 "cells": [
  {
   "cell_type": "raw",
   "metadata": {},
   "source": [
    "The Below code is to track the activity on Open Interest During Market hours.\n",
    "The stratergy is if the \"Difference\" column trend keep on increasing positively or negatively we see a trendy day.If it is positive we see markets going down if negative then we can see them going up. \n",
    "If the \"Difference\" column trend keep on changing that means it's not a clear trending day"
   ]
  },
  {
   "cell_type": "code",
   "execution_count": null,
   "metadata": {},
   "outputs": [],
   "source": [
    "We Need to Start this code at 10:30 in the morning The above analysis will stop execution @ 15:30"
   ]
  },
  {
   "cell_type": "code",
   "execution_count": 1,
   "metadata": {},
   "outputs": [],
   "source": [
    "import numpy as np\n",
    "from nsepython import *\n",
    "import matplotlib.pyplot as plt\n",
    "from IPython.display import clear_output\n",
    "import pandas as pd\n",
    "from win10toast import ToastNotifier\n",
    "from nsetools import Nse\n",
    "from datetime import datetime"
   ]
  },
  {
   "cell_type": "code",
   "execution_count": null,
   "metadata": {},
   "outputs": [],
   "source": [
    "nse = Nse()\n",
    "today_date=datetime.now().strftime(\"%d_%m\")"
   ]
  },
  {
   "cell_type": "code",
   "execution_count": null,
   "metadata": {},
   "outputs": [],
   "source": [
    "summary_df=pd.DataFrame(columns=['time','ltp','fut_ltp','Call','Put','Difference', 'change', 'pChange','call_vol','put_vol'])\n",
    "list_of_columns_to_draw=summary_df.columns[1:]\n",
    "len(list_of_columns_to_draw)"
   ]
  },
  {
   "cell_type": "code",
   "execution_count": null,
   "metadata": {},
   "outputs": [],
   "source": [
    "def round_to_next100(n):\n",
    "    return n + (100 - n) % 100"
   ]
  },
  {
   "cell_type": "code",
   "execution_count": null,
   "metadata": {},
   "outputs": [],
   "source": [
    "def oi_analysis(summary_df):\n",
    "    oi_data,ltp,crontime=oi_chain_builder('BANKNIFTY')\n",
    "#     global summary_df\n",
    "    price=round_to_next100(ltp)\n",
    "    fut_ltp=nse_quote_ltp(\"BANKNIFTY\",\"latest\",\"Fut\")\n",
    "\n",
    "    ul=price+700\n",
    "    ll=price-700\n",
    "    subset_oi=oi_data.loc[(oi_data['Strike Price']<=ul) & (oi_data['Strike Price']>=ll)]\n",
    "    app_dict={'time' : crontime[12:17],\"ltp\":ltp,'fut_ltp':fut_ltp,'Call' : np.sum(subset_oi['CALLS_Chng in OI']), 'Put' : np.sum(subset_oi['PUTS_Chng in OI']),\n",
    "                             'Difference' : np.sum(subset_oi['CALLS_Chng in OI'])-np.sum(subset_oi['PUTS_Chng in OI']),'call_vol':np.sum(subset_oi['CALLS_Volume']),'put_vol':np.sum(subset_oi['PUTS_Volume'])}\n",
    "    nb_quote=nse.get_index_quote(\"nifty bank\")\n",
    "    for i in ['change','pChange']:\n",
    "        app_dict.update({i:nb_quote[i]})\n",
    "#     print(crontime[:11])\n",
    "    return(summary_df.append(app_dict,ignore_index = True),subset_oi)"
   ]
  },
  {
   "cell_type": "code",
   "execution_count": null,
   "metadata": {},
   "outputs": [],
   "source": [
    "# # ,x,y,x_name\n",
    "def plot_subplot(axiss,column_name):\n",
    "#     print(axis[0])\n",
    "    axis[axiss[0], axiss[1]].plot(summary_df['time'],summary_df[column_name])\n",
    "    axis[axiss[0], axiss[1]].tick_params(axis='x', rotation=90)\n",
    "    axis[axiss[0], axiss[1]].grid() \n",
    "    axis[axiss[0], axiss[1]].set_title(column_name)"
   ]
  },
  {
   "cell_type": "code",
   "execution_count": null,
   "metadata": {},
   "outputs": [],
   "source": [
    "toaster = ToastNotifier()\n",
    "\n",
    "while summary_df.iloc[-1]['time'].split(\":\")[0] != '15:30':\n",
    "    summary_df,subset_oi=oi_analysis(summary_df)\n",
    "#     summary_df=pd.read_csv('C:/Users/shiwa/Algo trading/Data/Saved Data/Complete_BANKNIFTY_DATA/data_BANKNIFTY_08_07_1419.csv')\n",
    "    clear_output(wait=False)\n",
    "#     toaster.show_toast(\"Python Notification\",\"take a screen shot\")\n",
    "#     summary_df.to_csv('C:/Users/shiwa/Algo trading/Data/Saved Data/Complete_BANKNIFTY_DATA/data_BANKNIFTY_'+today_date+\"_\"+str(summary_df['time'][len(summary_df['time'])-1]).replace(':','')+'.csv')      \n",
    "#     subset_oi.to_csv('C:/Users/shiwa/Algo trading/Data/Saved Data/Complete_BANKNIFTY_DATA/OI_data_BANKNIFTY_'+today_date+\"_\"+str(summary_df['time'][len(summary_df['time'])-1]).replace(':','')+'.csv')      \n",
    "    print(summary_df)\n",
    "    plt.rcParams[\"figure.figsize\"] = (20,15)\n",
    "    figure, axis = plt.subplots(int(np.ceil(len(list_of_columns_to_draw)/3)),3)\n",
    "    figure.tight_layout(pad=5.0)\n",
    "    for i,j in zip([(i,j) for j in range(3) for i in range(2)],list_of_columns_to_draw):\n",
    "        plot_subplot(i,j)\n",
    "#     plt.savefig('C:/Users/shiwa/Algo trading/Data/Saved Data/Charts/analysis_chart_'+today_date+\"_\"+str(summary_df['time'][len(summary_df['time'])-1]).replace(':','')+'.png')\n",
    "    plt.show()\n",
    "    time.sleep(600)"
   ]
  },
  {
   "cell_type": "code",
   "execution_count": null,
   "metadata": {},
   "outputs": [],
   "source": []
  }
 ],
 "metadata": {
  "kernelspec": {
   "display_name": "Python 3",
   "language": "python",
   "name": "python3"
  },
  "language_info": {
   "codemirror_mode": {
    "name": "ipython",
    "version": 3
   },
   "file_extension": ".py",
   "mimetype": "text/x-python",
   "name": "python",
   "nbconvert_exporter": "python",
   "pygments_lexer": "ipython3",
   "version": "3.8.3"
  }
 },
 "nbformat": 4,
 "nbformat_minor": 4
}
