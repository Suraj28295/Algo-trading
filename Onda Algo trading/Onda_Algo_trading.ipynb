{
 "cells": [
  {
   "cell_type": "markdown",
   "metadata": {},
   "source": [
    "Below code is a automated code for opening candle breakout/breakdown stratergy.\n",
    "You can do changes to the \"Variable Initialisation\" section and everything will run in automated manner\n",
    "\n",
    "Code will take a trade when instrument bid price will breakout from opening high and is not more than 1 % of opening high(This condition is to avoid trade when bid is way above high.You can change it using variable inclusion_percentage variable) "
   ]
  },
  {
   "cell_type": "code",
   "execution_count": 1,
   "metadata": {},
   "outputs": [],
   "source": [
    "from Libraries.High_low_break_algo import Algo_trade\n",
    "from datetime import datetime, timedelta\n",
    "import warnings\n",
    "import threading "
   ]
  },
  {
   "cell_type": "code",
   "execution_count": 2,
   "metadata": {},
   "outputs": [],
   "source": [
    "# warnings.simplefilter(action='ignore', category=FutureWarning)"
   ]
  },
  {
   "cell_type": "markdown",
   "metadata": {},
   "source": [
    "## Variable initialization"
   ]
  },
  {
   "cell_type": "code",
   "execution_count": 3,
   "metadata": {},
   "outputs": [],
   "source": [
    "# Environment, access token, instrument names, Account ID\n",
    "environment=\"practice\"\n",
    "access_token=\"df91dd01a3b3c8569ebebeee9a322114-3396d4144b3efb49fc0ccc1da4322ac4\" # Ex -> df91dd01a3b3c8569ebebeee9a322114-3396d4144b3efb49fc0ccc1da4322ac4\n",
    "accountID=\"101-001-20709257-001\" # Ex -> 101-001-20709257-001\n",
    "instruments=['EUR_USD','AUD_CAD','AUD_USD']\n",
    "\n",
    "\n",
    "# Granuality for breakout\n",
    "granularity='M15'\n",
    "\n",
    "#Please specify the location where you have to save your bid,ask data for a istrument  \n",
    "database_location=\"C:/Users/shiwa/Python/Algo trading/Onda Algo trading/Data/\"\n",
    "\n",
    "#Quantity in which you have to trade every time condition matches\n",
    "quantity=100\n",
    "\n",
    "#% range between which we can enter into trade\n",
    "inclusion_percentage=0.01\n",
    "#% where we can Book our profit\n",
    "take_profit_percentage=0.03\n",
    "\n",
    "#For Debugging purpose please use DEBUG, Else for running use INFORMATION\n",
    "logging_mode='INFORMATION'\n",
    "\n",
    "#Since Forex Market starts on Sunday 5 GTC We are using that as our opening time candle. You can change it just by changing \"week_start\" \n",
    "# variable to our required date and time in the format - %Y-%m-%dTHH:MM:SS\n",
    "dt=datetime.utcnow()\n",
    "week_start=(dt - timedelta(days=dt.weekday())- timedelta(days=1)).strftime('%Y-%m-%dT17:00:00')\n",
    "\n",
    "\n"
   ]
  },
  {
   "cell_type": "code",
   "execution_count": 4,
   "metadata": {},
   "outputs": [],
   "source": [
    "oanda_connection={}\n",
    "for inst in instruments:\n",
    "    oanda_connection[inst]=Algo_trade(# Account details related parameter\n",
    "                            environment=environment,access_token=access_token,instrument=inst,account_id=accountID,\n",
    "                            #Logging Related parameter\n",
    "                            logging_mode=logging_mode,\n",
    "                           #Opening Candle Related parameter \n",
    "                            Start_date_time=week_start,granularity=granularity,\n",
    "                           #trade related parameter\n",
    "                            quantity=quantity,\n",
    "                            inclusion_percentage=inclusion_percentage,\n",
    "                            take_profit_percentage=take_profit_percentage,\n",
    "                           #Storage related\n",
    "                            database_location=database_location,\n",
    "        \n",
    "                           )\n"
   ]
  },
  {
   "cell_type": "code",
   "execution_count": 6,
   "metadata": {},
   "outputs": [
    {
     "name": "stdout",
     "output_type": "stream",
     "text": [
      "Instrument not Tradable\n",
      "The file containing data for AUD_USD is -->\tC:/Users/shiwa/Python/Algo trading/Onda Algo trading/Data/AUD_USD.json\n",
      "Instrument not Tradable\n",
      "The file containing data for AUD_CAD is -->\tC:/Users/shiwa/Python/Algo trading/Onda Algo trading/Data/AUD_CAD.json\n",
      "Instrument not Tradable\n",
      "The file containing data for EUR_USD is -->\tC:/Users/shiwa/Python/Algo trading/Onda Algo trading/Data/EUR_USD.json\n"
     ]
    }
   ],
   "source": [
    "for inst in instruments:\n",
    "    t1 = threading.Thread(target=oanda_connection[inst].take_trade)\n",
    "    t1.start()"
   ]
  },
  {
   "cell_type": "markdown",
   "metadata": {},
   "source": [
    "Scope of improvement:\n",
    "1) Currently it's simple take target and Exit on SL logic can encode trailing stoploss logic\n",
    "\n",
    "2) Also please let me know if there are other changes we can do to make our code more freindly and atomated.I'll finish it during   my deadline."
   ]
  }
 ],
 "metadata": {
  "kernelspec": {
   "display_name": "Python 3",
   "language": "python",
   "name": "python3"
  },
  "language_info": {
   "codemirror_mode": {
    "name": "ipython",
    "version": 3
   },
   "file_extension": ".py",
   "mimetype": "text/x-python",
   "name": "python",
   "nbconvert_exporter": "python",
   "pygments_lexer": "ipython3",
   "version": "3.8.3"
  }
 },
 "nbformat": 4,
 "nbformat_minor": 4
}
